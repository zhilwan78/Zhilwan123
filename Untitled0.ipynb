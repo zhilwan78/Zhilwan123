{
  "nbformat": 4,
  "nbformat_minor": 0,
  "metadata": {
    "colab": {
      "provenance": [],
      "authorship_tag": "ABX9TyM5Mia6X1KWnjkWHZ/qJOlK",
      "include_colab_link": true
    },
    "kernelspec": {
      "name": "python3",
      "display_name": "Python 3"
    },
    "language_info": {
      "name": "python"
    }
  },
  "cells": [
    {
      "cell_type": "markdown",
      "metadata": {
        "id": "view-in-github",
        "colab_type": "text"
      },
      "source": [
        "<a href=\"https://colab.research.google.com/github/zhilwan78/Zhilwan123/blob/main/Untitled0.ipynb\" target=\"_parent\"><img src=\"https://colab.research.google.com/assets/colab-badge.svg\" alt=\"Open In Colab\"/></a>"
      ]
    },
    {
      "cell_type": "code",
      "execution_count": 1,
      "metadata": {
        "colab": {
          "base_uri": "https://localhost:8080/",
          "height": 131
        },
        "id": "eDVqU0vAWmYh",
        "outputId": "37b611a4-2a5a-4a01-fcce-e64399c2ef5d"
      },
      "outputs": [
        {
          "output_type": "error",
          "ename": "SyntaxError",
          "evalue": "ignored",
          "traceback": [
            "\u001b[0;36m  File \u001b[0;32m\"<ipython-input-1-2ab1dfc4d3ac>\"\u001b[0;36m, line \u001b[0;32m25\u001b[0m\n\u001b[0;31m    bisection_method(\"(x**4) - 3*x-5\u001b[0m\n\u001b[0m                                    ^\u001b[0m\n\u001b[0;31mSyntaxError\u001b[0m\u001b[0;31m:\u001b[0m EOL while scanning string literal\n"
          ]
        }
      ],
      "source": [
        "\n",
        "def bisection_method(fanc, a, b, error_accept):\n",
        "\n",
        "    def f(x):\n",
        "        f = eval(fanc)\n",
        "        return f\n",
        "\n",
        "    error = abs(b - a)\n",
        "    while error > error_accept:\n",
        "        c = (b + a)/2\n",
        "        if f(a) * f(b) >= 0:\n",
        "            print(\"no root\")\n",
        "            quit()\n",
        "        elif f(c) * f(a) < 0 :\n",
        "            b = c\n",
        "            error = abs(b - a)\n",
        "        elif f(c) * f(b) < 0:\n",
        "            a = c\n",
        "            error = abs(b - a)\n",
        "        else :\n",
        "            print(\"Something went wrong \")\n",
        "        quit()\n",
        "        print(f\"The error is {error}\")\n",
        "        print(f\"The lower boundary, a, is {a} and the upper boundary, b, is {b}\")\n",
        "\n",
        "bisection_method(\"(x**4) - 3*x-5"
      ]
    }
  ]
}